{
 "cells": [
  {
   "cell_type": "markdown",
   "metadata": {},
   "source": [
    "# Truy vấn dữ liệu"
   ]
  },
  {
   "cell_type": "markdown",
   "metadata": {},
   "source": [
    "#### Import modules và khởi tạo các giá trị ban đầu"
   ]
  },
  {
   "cell_type": "code",
   "execution_count": 7,
   "metadata": {},
   "outputs": [],
   "source": [
    "# Create the Spark Session\n",
    "from pyspark.sql import SparkSession\n",
    "from pyspark.sql.types import StringType, StructField, StructType, LongType, DateType, BooleanType\n",
    "from pyspark.sql.functions import from_json\n",
    "from pyspark.sql.functions import col, countDistinct, date_trunc, count, current_date\n",
    "\n",
    "spark = SparkSession \\\n",
    "    .builder \\\n",
    "    .appName(\"Read from Parquet\") \\\n",
    "    .master(\"local[*]\") \\\n",
    "    .config(\"spark.sql.shuffle.partitions\", 4) \\\n",
    "    .config(\"spark.ui.port\", \"4041\") \\\n",
    "    .getOrCreate()\n",
    "\n",
    "df = spark.read.parquet(\"data/parquet/files\")"
   ]
  },
  {
   "cell_type": "markdown",
   "metadata": {},
   "source": [
    "#### "
   ]
  },
  {
   "cell_type": "code",
   "execution_count": 10,
   "metadata": {},
   "outputs": [
    {
     "name": "stdout",
     "output_type": "stream",
     "text": [
      "Danh sách các lượt truy cập lỗi trong ngày hôm nay:\n",
      "+-------+-------+------+------+-----------+--------------------------+\n",
      "|browser|os     |device|is_bot|status_code|datetime                  |\n",
      "+-------+-------+------+------+-----------+--------------------------+\n",
      "|Chrome |Windows|Other |false |400        |2024-05-07 18:55:47.74681 |\n",
      "|Chrome |Windows|Other |false |400        |2024-05-07 19:04:58.742334|\n",
      "|Chrome |Windows|Other |false |400        |2024-05-07 19:05:00.246822|\n",
      "|Chrome |Windows|Other |false |400        |2024-05-07 19:05:02.254594|\n",
      "+-------+-------+------+------+-----------+--------------------------+\n",
      "\n"
     ]
    }
   ],
   "source": [
    "#Thống kê số lượt truy cập lỗi trong ngày\n",
    "def print_list_error_count_by_day(df):\n",
    "    today = current_date().cast(\"date\")\n",
    "    error_accesses_today = df.filter((col(\"status_code\") >= 400) & (col(\"datetime\").cast(\"date\") == today))\n",
    "    print(\"Thống kê các lượt truy cập lỗi trong ngày hôm nay:\")\n",
    "    error_accesses_today.show(truncate=False)\n",
    "print_list_error_count_by_day(df)"
   ]
  },
  {
   "cell_type": "code",
   "execution_count": 9,
   "metadata": {},
   "outputs": [
    {
     "name": "stdout",
     "output_type": "stream",
     "text": [
      "Danh sách các trình duyệt đã truy cập:\n",
      "+-------+\n",
      "|browser|\n",
      "+-------+\n",
      "|Chrome |\n",
      "+-------+\n",
      "\n",
      "None\n"
     ]
    }
   ],
   "source": [
    "#Danh sách các trình duyệt truy cập\n",
    "browsers = df.select(col(\"browser\")).distinct()\n",
    "print(\"Danh sách các trình duyệt đã truy cập:\")\n",
    "print(browsers.show(truncate=False))"
   ]
  },
  {
   "cell_type": "code",
   "execution_count": 11,
   "metadata": {},
   "outputs": [
    {
     "name": "stdout",
     "output_type": "stream",
     "text": [
      "Danh sách các lượt truy cập không phải từ trình duyệt:\n",
      "+-------+---+------+------+-----------+--------+\n",
      "|browser|os |device|is_bot|status_code|datetime|\n",
      "+-------+---+------+------+-----------+--------+\n",
      "+-------+---+------+------+-----------+--------+\n",
      "\n"
     ]
    }
   ],
   "source": [
    "#Danh sách các lượt truy cập là bot\n",
    "def list_isBot(df):\n",
    "    bot_accesses = df.filter(col(\"is_bot\") == True)\n",
    "    print(\"Danh sách các lượt truy cập không phải từ trình duyệt:\")\n",
    "    bot_accesses.show(truncate=False)\n",
    "list_isBot(df)"
   ]
  }
 ],
 "metadata": {
  "kernelspec": {
   "display_name": "Python 3",
   "language": "python",
   "name": "python3"
  },
  "language_info": {
   "codemirror_mode": {
    "name": "ipython",
    "version": 3
   },
   "file_extension": ".py",
   "mimetype": "text/x-python",
   "name": "python",
   "nbconvert_exporter": "python",
   "pygments_lexer": "ipython3",
   "version": "3.11.4"
  }
 },
 "nbformat": 4,
 "nbformat_minor": 2
}
